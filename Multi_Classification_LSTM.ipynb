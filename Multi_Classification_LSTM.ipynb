{
 "cells": [
  {
   "cell_type": "code",
   "execution_count": 1,
   "metadata": {},
   "outputs": [
    {
     "name": "stderr",
     "output_type": "stream",
     "text": [
      "Using TensorFlow backend.\n"
     ]
    }
   ],
   "source": [
    "# https://www.kaggle.com/shayanfazeli/heartbeat   # data set \n",
    "\n",
    "import pandas as pd \n",
    "import numpy as np\n",
    "import matplotlib.pyplot as plt # plotting\n",
    "import os\n",
    "import sklearn\n",
    "from keras.models import Sequential\n",
    "from keras.layers import Flatten, Dense, Dropout, BatchNormalization, AveragePooling2D\n",
    "from sklearn.model_selection import train_test_split\n",
    "from sklearn import svm\n",
    "from sklearn.metrics import classification_report, confusion_matrix\n",
    "from sklearn.metrics import accuracy_score, f1_score, precision_score, recall_score\n",
    "from sklearn.linear_model import LogisticRegression\n",
    "from sklearn.naive_bayes import GaussianNB\n",
    "from sklearn.linear_model import SGDClassifier\n",
    "from sklearn.neighbors import KNeighborsClassifier\n",
    "from sklearn.tree import DecisionTreeClassifier\n",
    "from sklearn.ensemble import RandomForestClassifier\n",
    "import scipy\n",
    "from imblearn.over_sampling import SMOTE\n",
    "from sklearn.model_selection import cross_validate"
   ]
  },
  {
   "cell_type": "code",
   "execution_count": 2,
   "metadata": {},
   "outputs": [],
   "source": [
    "# reading csv file  \n",
    "\n",
    "test=pd.read_csv(\"mitbih_test.csv\",header=None) \n",
    "train=pd.read_csv(\"mitbih_train.csv\",header=None) \n",
    "#Classes: ['N': 0, 'S': 1, 'V': 2, 'F': 3, 'Q': 4]\n",
    "# N- normal, S-supraventricular, V-ventricular, F-fusion, Q- unknown\n",
    "\n"
   ]
  },
  {
   "cell_type": "code",
   "execution_count": 4,
   "metadata": {},
   "outputs": [
    {
     "name": "stdout",
     "output_type": "stream",
     "text": [
      "Type\tCount\n",
      "0.0    72471\n",
      "4.0     6431\n",
      "2.0     5788\n",
      "1.0     2223\n",
      "3.0      641\n",
      "Name: 187, dtype: int64\n",
      "train shape :  (87554, 188)\n",
      "test shape :  (21892, 188)\n"
     ]
    }
   ],
   "source": [
    "print(\"Type\\tCount\")\n",
    "print((train[187]).value_counts())\n",
    "\n",
    "print(\"train shape : \",train.shape)\n",
    "print(\"test shape : \",test.shape)\n"
   ]
  },
  {
   "cell_type": "code",
   "execution_count": 5,
   "metadata": {},
   "outputs": [
    {
     "name": "stdout",
     "output_type": "stream",
     "text": [
      "Count of all classes in training dataset\n",
      "Type\tCount\n",
      "0.0    72471\n",
      "4.0     6431\n",
      "2.0     5788\n",
      "1.0     2223\n",
      "3.0      641\n",
      "Name: 187, dtype: int64\n",
      "*************************************\n",
      "Count of all classes in test dataset\n",
      "Type\tCount\n",
      "0.0    18118\n",
      "4.0     1608\n",
      "2.0     1448\n",
      "1.0      556\n",
      "3.0      162\n",
      "Name: 187, dtype: int64\n"
     ]
    }
   ],
   "source": [
    "print('Count of all classes in training dataset')\n",
    "print(\"Type\\tCount\")\n",
    "print((train[187]).value_counts())\n",
    "\n",
    "print('*************************************')\n",
    "\n",
    "print('Count of all classes in test dataset')\n",
    "print(\"Type\\tCount\")\n",
    "print((test[187]).value_counts())"
   ]
  },
  {
   "cell_type": "code",
   "execution_count": 6,
   "metadata": {},
   "outputs": [
    {
     "name": "stdout",
     "output_type": "stream",
     "text": [
      "train shape :  (87554, 188)\n",
      "test shape :  (21892, 188)\n",
      "feature_train shape :  (87554, 187)\n",
      "labels_train shape :  (87554,)\n",
      "feature_test shape :  (21892, 187)\n",
      "labels_test shape :  (21892,)\n"
     ]
    }
   ],
   "source": [
    "print(\"train shape : \",train.shape)\n",
    "print(\"test shape : \",test.shape)\n",
    "\n",
    "feature_train=train.iloc[:,0:187] \n",
    "print(\"feature_train shape : \",feature_train.shape)\n",
    "\n",
    "labels_train=train.iloc[:,187] \n",
    "print(\"labels_train shape : \",labels_train.shape)\n",
    "\n",
    "feature_test=test.iloc[:,0:187] \n",
    "print(\"feature_test shape : \",feature_test.shape)\n",
    "\n",
    "labels_test=test.iloc[:,187] \n",
    "print(\"labels_test shape : \",labels_test.shape)\n",
    "      \n"
   ]
  },
  {
   "cell_type": "code",
   "execution_count": 7,
   "metadata": {},
   "outputs": [],
   "source": [
    "from sklearn.preprocessing import StandardScaler\n",
    "standardized_training_data=StandardScaler().fit_transform(feature_train)\n",
    "feature_train=standardized_training_data\n",
    "\n",
    "standardized_test_data=StandardScaler().fit_transform(feature_test)\n",
    "feature_test=standardized_test_data"
   ]
  },
  {
   "cell_type": "code",
   "execution_count": 8,
   "metadata": {},
   "outputs": [],
   "source": [
    "from keras.utils import np_utils \n",
    "from keras.datasets import mnist \n",
    "import seaborn as sns\n",
    "from keras.initializers import RandomNormal\n",
    "#from keras.initializers import glorot_normal"
   ]
  },
  {
   "cell_type": "code",
   "execution_count": 9,
   "metadata": {},
   "outputs": [],
   "source": [
    "%matplotlib notebook\n",
    "import matplotlib.pyplot as plt\n",
    "import numpy as np\n",
    "import time\n",
    "def plt_dynamic(x, vy, ty, ax, colors=['b']):\n",
    "    ax.plot(x, vy, 'b', label=\"Validation Loss\")\n",
    "    ax.plot(x, ty, 'r', label=\"Train Loss\")\n",
    "    plt.legend()\n",
    "    plt.grid()\n",
    "    fig.canvas.draw()"
   ]
  },
  {
   "cell_type": "code",
   "execution_count": 10,
   "metadata": {},
   "outputs": [],
   "source": [
    "import numpy as np\n",
    "from keras.utils import np_utils \n",
    "import seaborn as sns\n",
    "from keras.initializers import RandomNormal\n",
    "from keras.models import Sequential\n",
    "from keras.layers import Dense\n",
    "from keras.layers import LSTM\n",
    "from keras.layers import Embedding\n",
    "from keras.preprocessing import sequence\n",
    "# fixed random seed for reproducibility\n",
    "np.random.seed(7)\n"
   ]
  },
  {
   "cell_type": "code",
   "execution_count": 11,
   "metadata": {},
   "outputs": [],
   "source": [
    "x_train1=feature_train\n",
    "x_test1=feature_test\n",
    "y_train1=labels_train\n",
    "y_test1=labels_test"
   ]
  },
  {
   "cell_type": "code",
   "execution_count": 12,
   "metadata": {},
   "outputs": [],
   "source": [
    "x_train1=x_train1.reshape(x_train1.shape[0],1,x_train1.shape[1])\n",
    "x_test1=x_test1.reshape(x_test1.shape[0],1,x_test1.shape[1])\n"
   ]
  },
  {
   "cell_type": "code",
   "execution_count": 13,
   "metadata": {},
   "outputs": [
    {
     "name": "stdout",
     "output_type": "stream",
     "text": [
      "Class label of first image : 4.0\n",
      "After converting the output into a vector :  [0. 0. 0. 0. 1.]\n"
     ]
    }
   ],
   "source": [
    "# here we are having a class number for each image\n",
    "print(\"Class label of first image :\",y_train1[83456])\n",
    "\n",
    "\n",
    "Y_train = np_utils.to_categorical(y_train1)\n",
    "print(\"After converting the output into a vector : \",Y_train[83456])\n",
    "\n",
    "Y_test = np_utils.to_categorical(y_test1)"
   ]
  },
  {
   "cell_type": "code",
   "execution_count": 14,
   "metadata": {},
   "outputs": [
    {
     "name": "stdout",
     "output_type": "stream",
     "text": [
      "feature_train (87554, 1, 187)\n",
      "Y_train (87554, 5)\n",
      "feature_test (21892, 1, 187)\n",
      "Y_test (21892, 5)\n"
     ]
    }
   ],
   "source": [
    "print(\"feature_train\",x_train1.shape)\n",
    "print(\"Y_train\",Y_train.shape)\n",
    "print(\"feature_test\",x_test1.shape)\n",
    "print(\"Y_test\",Y_test.shape)"
   ]
  },
  {
   "cell_type": "code",
   "execution_count": 15,
   "metadata": {},
   "outputs": [],
   "source": [
    "output_dim = 5\n",
    "input_dim = feature_train.shape[1]\n",
    "\n",
    "batch_size = 512\n",
    "nb_epoch = 100\n",
    "\n",
    "model_lstm =Sequential()\n",
    "#model_lstm.add(Embedding)\n",
    "model_lstm.add(LSTM(100))\n",
    "model_lstm.add(Dense(output_dim, input_dim=input_dim, activation='softmax'))\n",
    "model_lstm.compile(loss='binary_crossentropy', optimizer='adam',metrics=['accuracy'])\n",
    "\n"
   ]
  },
  {
   "cell_type": "code",
   "execution_count": 16,
   "metadata": {},
   "outputs": [
    {
     "name": "stdout",
     "output_type": "stream",
     "text": [
      "WARNING:tensorflow:From C:\\ProgramData\\Anaconda3\\lib\\site-packages\\tensorflow\\python\\ops\\math_grad.py:1250: add_dispatch_support.<locals>.wrapper (from tensorflow.python.ops.array_ops) is deprecated and will be removed in a future version.\n",
      "Instructions for updating:\n",
      "Use tf.where in 2.0, which has the same broadcast rule as np.where\n",
      "WARNING:tensorflow:From C:\\ProgramData\\Anaconda3\\lib\\site-packages\\keras\\backend\\tensorflow_backend.py:422: The name tf.global_variables is deprecated. Please use tf.compat.v1.global_variables instead.\n",
      "\n",
      "Epoch 1/100\n",
      "87554/87554 [==============================] - 4s 45us/step - loss: 0.1402 - accuracy: 0.9532\n",
      "Epoch 2/100\n",
      "87554/87554 [==============================] - 3s 37us/step - loss: 0.0664 - accuracy: 0.9810\n",
      "Epoch 3/100\n",
      "87554/87554 [==============================] - 3s 35us/step - loss: 0.0537 - accuracy: 0.9845\n",
      "Epoch 4/100\n",
      "87554/87554 [==============================] - 3s 38us/step - loss: 0.0456 - accuracy: 0.9865\n",
      "Epoch 5/100\n",
      "87554/87554 [==============================] - 3s 33us/step - loss: 0.0403 - accuracy: 0.9880\n",
      "Epoch 6/100\n",
      "87554/87554 [==============================] - 3s 30us/step - loss: 0.0363 - accuracy: 0.9891\n",
      "Epoch 7/100\n",
      "87554/87554 [==============================] - 3s 30us/step - loss: 0.0345 - accuracy: 0.9895\n",
      "Epoch 8/100\n",
      "87554/87554 [==============================] - 3s 30us/step - loss: 0.0363 - accuracy: 0.9890\n",
      "Epoch 9/100\n",
      "87554/87554 [==============================] - 3s 30us/step - loss: 0.0305 - accuracy: 0.9909\n",
      "Epoch 10/100\n",
      "87554/87554 [==============================] - 3s 30us/step - loss: 0.0287 - accuracy: 0.9913\n",
      "Epoch 11/100\n",
      "87554/87554 [==============================] - 3s 30us/step - loss: 0.0272 - accuracy: 0.9918\n",
      "Epoch 12/100\n",
      "87554/87554 [==============================] - 3s 34us/step - loss: 0.0259 - accuracy: 0.9922\n",
      "Epoch 13/100\n",
      "87554/87554 [==============================] - 3s 36us/step - loss: 0.0248 - accuracy: 0.9925\n",
      "Epoch 14/100\n",
      "87554/87554 [==============================] - 4s 41us/step - loss: 0.0237 - accuracy: 0.9929\n",
      "Epoch 15/100\n",
      "87554/87554 [==============================] - 3s 35us/step - loss: 0.0227 - accuracy: 0.9932\n",
      "Epoch 16/100\n",
      "87554/87554 [==============================] - 3s 35us/step - loss: 0.0239 - accuracy: 0.9925\n",
      "Epoch 17/100\n",
      "87554/87554 [==============================] - 3s 35us/step - loss: 0.0218 - accuracy: 0.9933\n",
      "Epoch 18/100\n",
      "87554/87554 [==============================] - 3s 36us/step - loss: 0.0204 - accuracy: 0.9937 0s - loss: 0.0205 - accu\n",
      "Epoch 19/100\n",
      "87554/87554 [==============================] - 4s 42us/step - loss: 0.0196 - accuracy: 0.9940\n",
      "Epoch 20/100\n",
      "87554/87554 [==============================] - 3s 35us/step - loss: 0.0189 - accuracy: 0.9943\n",
      "Epoch 21/100\n",
      "87554/87554 [==============================] - 3s 35us/step - loss: 0.0183 - accuracy: 0.9945\n",
      "Epoch 22/100\n",
      "87554/87554 [==============================] - 3s 35us/step - loss: 0.0178 - accuracy: 0.9946\n",
      "Epoch 23/100\n",
      "87554/87554 [==============================] - 3s 37us/step - loss: 0.0171 - accuracy: 0.9948\n",
      "Epoch 24/100\n",
      "87554/87554 [==============================] - 4s 43us/step - loss: 0.0164 - accuracy: 0.9949\n",
      "Epoch 25/100\n",
      "87554/87554 [==============================] - 4s 42us/step - loss: 0.0159 - accuracy: 0.9952\n",
      "Epoch 26/100\n",
      "87554/87554 [==============================] - 3s 39us/step - loss: 0.0154 - accuracy: 0.9953\n",
      "Epoch 27/100\n",
      "87554/87554 [==============================] - 4s 43us/step - loss: 0.0149 - accuracy: 0.9954 0s - loss: 0.0149 - accuracy:  - ETA: 0s - loss: 0.0150 - accuracy: 0.\n",
      "Epoch 28/100\n",
      "87554/87554 [==============================] - 3s 38us/step - loss: 0.0143 - accuracy: 0.9955\n",
      "Epoch 29/100\n",
      "87554/87554 [==============================] - 3s 37us/step - loss: 0.0139 - accuracy: 0.9958\n",
      "Epoch 30/100\n",
      "87554/87554 [==============================] - 3s 36us/step - loss: 0.0135 - accuracy: 0.9960\n",
      "Epoch 31/100\n",
      "87554/87554 [==============================] - 3s 38us/step - loss: 0.0130 - accuracy: 0.9961 0s - loss: 0.0127 -  - ETA: 0s - loss: 0.0128 - accura\n",
      "Epoch 32/100\n",
      "87554/87554 [==============================] - 3s 38us/step - loss: 0.0126 - accuracy: 0.9962\n",
      "Epoch 33/100\n",
      "87554/87554 [==============================] - 3s 36us/step - loss: 0.0123 - accuracy: 0.9963\n",
      "Epoch 34/100\n",
      "87554/87554 [==============================] - 4s 41us/step - loss: 0.0117 - accuracy: 0.9964\n",
      "Epoch 35/100\n",
      "87554/87554 [==============================] - 4s 41us/step - loss: 0.0115 - accuracy: 0.9965\n",
      "Epoch 36/100\n",
      "87554/87554 [==============================] - 3s 40us/step - loss: 0.0110 - accuracy: 0.9967 0s - loss: 0.0106 - ac - ETA: 0s - loss: 0.010\n",
      "Epoch 37/100\n",
      "87554/87554 [==============================] - 4s 44us/step - loss: 0.0107 - accuracy: 0.9968\n",
      "Epoch 38/100\n",
      "87554/87554 [==============================] - 4s 45us/step - loss: 0.0103 - accuracy: 0.9969\n",
      "Epoch 39/100\n",
      "87554/87554 [==============================] - 4s 44us/step - loss: 0.0099 - accuracy: 0.9971\n",
      "Epoch 40/100\n",
      "87554/87554 [==============================] - 3s 37us/step - loss: 0.0096 - accuracy: 0.9972\n",
      "Epoch 41/100\n",
      "87554/87554 [==============================] - 3s 37us/step - loss: 0.0093 - accuracy: 0.9972\n",
      "Epoch 42/100\n",
      "87554/87554 [==============================] - 3s 39us/step - loss: 0.0107 - accuracy: 0.9967\n",
      "Epoch 43/100\n",
      "87554/87554 [==============================] - 3s 38us/step - loss: 0.0093 - accuracy: 0.9973\n",
      "Epoch 44/100\n",
      "87554/87554 [==============================] - 4s 47us/step - loss: 0.0087 - accuracy: 0.9974 0s - loss:\n",
      "Epoch 45/100\n",
      "87554/87554 [==============================] - 4s 43us/step - loss: 0.0083 - accuracy: 0.9976\n",
      "Epoch 46/100\n",
      "87554/87554 [==============================] - 4s 45us/step - loss: 0.0081 - accuracy: 0.9976\n",
      "Epoch 47/100\n",
      "87554/87554 [==============================] - 4s 41us/step - loss: 0.0078 - accuracy: 0.9977 0s - loss: 0.0077 - ac\n",
      "Epoch 48/100\n",
      "87554/87554 [==============================] - 3s 38us/step - loss: 0.0077 - accuracy: 0.9978\n",
      "Epoch 49/100\n",
      "87554/87554 [==============================] - 3s 38us/step - loss: 0.0075 - accuracy: 0.9978\n",
      "Epoch 50/100\n",
      "87554/87554 [==============================] - 3s 36us/step - loss: 0.0071 - accuracy: 0.9980\n",
      "Epoch 51/100\n",
      "87554/87554 [==============================] - 3s 35us/step - loss: 0.0071 - accuracy: 0.9980\n",
      "Epoch 52/100\n",
      "87554/87554 [==============================] - 3s 33us/step - loss: 0.0070 - accuracy: 0.9979\n",
      "Epoch 53/100\n",
      "87554/87554 [==============================] - 3s 32us/step - loss: 0.0071 - accuracy: 0.9980\n",
      "Epoch 54/100\n",
      "87554/87554 [==============================] - 3s 32us/step - loss: 0.0064 - accuracy: 0.9982\n",
      "Epoch 55/100\n",
      "87554/87554 [==============================] - 3s 32us/step - loss: 0.0062 - accuracy: 0.9982\n",
      "Epoch 56/100\n",
      "87554/87554 [==============================] - 3s 32us/step - loss: 0.0060 - accuracy: 0.9983\n",
      "Epoch 57/100\n",
      "87554/87554 [==============================] - 3s 32us/step - loss: 0.0058 - accuracy: 0.9984\n",
      "Epoch 58/100\n",
      "87554/87554 [==============================] - 3s 33us/step - loss: 0.0058 - accuracy: 0.9984\n",
      "Epoch 59/100\n",
      "87554/87554 [==============================] - 3s 33us/step - loss: 0.0056 - accuracy: 0.9984\n",
      "Epoch 60/100\n",
      "87554/87554 [==============================] - 3s 31us/step - loss: 0.0053 - accuracy: 0.9986\n",
      "Epoch 61/100\n",
      "87554/87554 [==============================] - 3s 35us/step - loss: 0.0053 - accuracy: 0.9985\n",
      "Epoch 62/100\n",
      "87554/87554 [==============================] - 3s 33us/step - loss: 0.0051 - accuracy: 0.9986\n",
      "Epoch 63/100\n",
      "87554/87554 [==============================] - 3s 31us/step - loss: 0.0050 - accuracy: 0.9986 1s\n",
      "Epoch 64/100\n",
      "87554/87554 [==============================] - 3s 31us/step - loss: 0.0049 - accuracy: 0.9987\n",
      "Epoch 65/100\n",
      "87554/87554 [==============================] - 3s 32us/step - loss: 0.0049 - accuracy: 0.9986\n",
      "Epoch 66/100\n",
      "87554/87554 [==============================] - 3s 33us/step - loss: 0.0107 - accuracy: 0.9969\n",
      "Epoch 67/100\n",
      "87554/87554 [==============================] - 3s 33us/step - loss: 0.0067 - accuracy: 0.9980\n",
      "Epoch 68/100\n",
      "87554/87554 [==============================] - 3s 31us/step - loss: 0.0056 - accuracy: 0.9984 0s\n",
      "Epoch 69/100\n",
      "87554/87554 [==============================] - 3s 32us/step - loss: 0.0052 - accuracy: 0.9985\n",
      "Epoch 70/100\n",
      "87554/87554 [==============================] - 3s 32us/step - loss: 0.0049 - accuracy: 0.9986\n",
      "Epoch 71/100\n",
      "87554/87554 [==============================] - 3s 31us/step - loss: 0.0048 - accuracy: 0.9987\n",
      "Epoch 72/100\n",
      "87554/87554 [==============================] - 3s 32us/step - loss: 0.0045 - accuracy: 0.9988\n",
      "Epoch 73/100\n",
      "87554/87554 [==============================] - 3s 32us/step - loss: 0.0114 - accuracy: 0.9966 0s - loss: 0.012\n",
      "Epoch 74/100\n",
      "87554/87554 [==============================] - 3s 32us/step - loss: 0.0056 - accuracy: 0.9984\n",
      "Epoch 75/100\n",
      "87554/87554 [==============================] - 3s 31us/step - loss: 0.0049 - accuracy: 0.9986\n",
      "Epoch 76/100\n",
      "87554/87554 [==============================] - 3s 33us/step - loss: 0.0044 - accuracy: 0.9988\n",
      "Epoch 77/100\n",
      "87554/87554 [==============================] - 3s 33us/step - loss: 0.0041 - accuracy: 0.9989\n",
      "Epoch 78/100\n",
      "87554/87554 [==============================] - 3s 35us/step - loss: 0.0040 - accuracy: 0.9989\n",
      "Epoch 79/100\n",
      "87554/87554 [==============================] - 3s 36us/step - loss: 0.0038 - accuracy: 0.9990\n",
      "Epoch 80/100\n",
      "87554/87554 [==============================] - 3s 35us/step - loss: 0.0046 - accuracy: 0.9987\n",
      "Epoch 81/100\n",
      "87554/87554 [==============================] - 3s 38us/step - loss: 0.0036 - accuracy: 0.9991\n",
      "Epoch 82/100\n",
      "87554/87554 [==============================] - 3s 34us/step - loss: 0.0036 - accuracy: 0.9991\n",
      "Epoch 83/100\n",
      "87554/87554 [==============================] - 3s 38us/step - loss: 0.0035 - accuracy: 0.9991\n",
      "Epoch 84/100\n",
      "87554/87554 [==============================] - 3s 39us/step - loss: 0.0034 - accuracy: 0.9991\n",
      "Epoch 85/100\n",
      "87554/87554 [==============================] - 3s 39us/step - loss: 0.0033 - accuracy: 0.9992\n",
      "Epoch 86/100\n",
      "87554/87554 [==============================] - 3s 39us/step - loss: 0.0037 - accuracy: 0.9990\n",
      "Epoch 87/100\n",
      "87554/87554 [==============================] - 3s 35us/step - loss: 0.0033 - accuracy: 0.9992\n",
      "Epoch 88/100\n",
      "87554/87554 [==============================] - 3s 38us/step - loss: 0.0057 - accuracy: 0.9986 0s - loss: 0.0057 - accura\n",
      "Epoch 89/100\n",
      "87554/87554 [==============================] - 4s 45us/step - loss: 0.0034 - accuracy: 0.9991 0s - loss: 0.0\n",
      "Epoch 90/100\n",
      "87554/87554 [==============================] - 3s 39us/step - loss: 0.0102 - accuracy: 0.9970\n",
      "Epoch 91/100\n",
      "87554/87554 [==============================] - 3s 39us/step - loss: 0.0045 - accuracy: 0.9987 0s - l\n",
      "Epoch 92/100\n",
      "87554/87554 [==============================] - 3s 39us/step - loss: 0.0036 - accuracy: 0.9990\n",
      "Epoch 93/100\n",
      "87554/87554 [==============================] - 3s 38us/step - loss: 0.0032 - accuracy: 0.9991\n",
      "Epoch 94/100\n",
      "87554/87554 [==============================] - 3s 39us/step - loss: 0.0030 - accuracy: 0.9992\n",
      "Epoch 95/100\n",
      "87554/87554 [==============================] - 3s 36us/step - loss: 0.0028 - accuracy: 0.9993\n",
      "Epoch 96/100\n",
      "87554/87554 [==============================] - 3s 37us/step - loss: 0.0027 - accuracy: 0.9993\n",
      "Epoch 97/100\n",
      "87554/87554 [==============================] - 3s 39us/step - loss: 0.0027 - accuracy: 0.9994\n",
      "Epoch 98/100\n",
      "87554/87554 [==============================] - 3s 37us/step - loss: 0.0027 - accuracy: 0.9993\n",
      "Epoch 99/100\n",
      "87554/87554 [==============================] - 4s 41us/step - loss: 0.0025 - accuracy: 0.9994\n",
      "Epoch 100/100\n",
      "87554/87554 [==============================] - 4s 43us/step - loss: 0.0026 - accuracy: 0.9993\n"
     ]
    },
    {
     "data": {
      "text/plain": [
       "<keras.callbacks.callbacks.History at 0x2aa55c96128>"
      ]
     },
     "execution_count": 16,
     "metadata": {},
     "output_type": "execute_result"
    }
   ],
   "source": [
    "\n",
    "model_lstm.fit(x_train1, Y_train, epochs=100,batch_size=512)\n"
   ]
  },
  {
   "cell_type": "code",
   "execution_count": 17,
   "metadata": {},
   "outputs": [],
   "source": [
    "predictions=model_lstm.predict(x_test1)"
   ]
  },
  {
   "cell_type": "code",
   "execution_count": 18,
   "metadata": {},
   "outputs": [
    {
     "name": "stdout",
     "output_type": "stream",
     "text": [
      "              precision    recall  f1-score   support\n",
      "\n",
      "           0       0.99      0.99      0.99     18118\n",
      "           1       0.86      0.73      0.79       556\n",
      "           2       0.95      0.93      0.94      1448\n",
      "           3       0.80      0.73      0.77       162\n",
      "           4       0.99      0.97      0.98      1608\n",
      "\n",
      "    accuracy                           0.98     21892\n",
      "   macro avg       0.92      0.87      0.89     21892\n",
      "weighted avg       0.98      0.98      0.98     21892\n",
      "\n"
     ]
    }
   ],
   "source": [
    "print(classification_report(Y_test.argmax(axis=1), predictions.argmax(axis=1)))"
   ]
  },
  {
   "cell_type": "code",
   "execution_count": 19,
   "metadata": {},
   "outputs": [
    {
     "name": "stdout",
     "output_type": "stream",
     "text": [
      "[[9.9999976e-01 2.0034449e-07 6.7784994e-10 4.2476191e-09 2.0487097e-12]\n",
      " [9.9935335e-01 6.4302690e-04 3.9515780e-07 1.1698351e-06 2.0317318e-06]\n",
      " [9.9960178e-01 3.9787657e-04 3.2744179e-08 1.9177236e-07 7.1629628e-08]\n",
      " ...\n",
      " [7.4875976e-07 1.3920576e-06 1.0132168e-06 6.1560850e-06 9.9999070e-01]\n",
      " [2.4811877e-11 6.7677461e-12 2.3957147e-12 7.6608494e-12 1.0000000e+00]\n",
      " [5.8706806e-10 1.4574129e-12 9.3095043e-10 2.9991423e-10 1.0000000e+00]]\n",
      "[0 0 0 ... 4 4 4]\n",
      "Type\tCount\n",
      "0    18260\n",
      "4     1587\n",
      "2     1422\n",
      "1      474\n",
      "3      149\n",
      "Name: col, dtype: int64\n"
     ]
    }
   ],
   "source": [
    "print(predictions)\n",
    "a=predictions.argmax(axis=1)     # 0 is row and 1 is column\n",
    "print(a)\n",
    "\n",
    "#create new df \n",
    "a = pd.DataFrame({'col':a})\n",
    "\n",
    "print(\"Type\\tCount\")\n",
    "print((a['col']).value_counts())"
   ]
  },
  {
   "cell_type": "code",
   "execution_count": 3,
   "metadata": {},
   "outputs": [],
   "source": [
    " #             precision    recall  f1-score   support\n",
    "\n",
    " #          0       0.99      0.99      0.99     18118\n",
    " #          1       0.86      0.73      0.79       556\n",
    " #          2       0.95      0.93      0.94      1448\n",
    " #          3       0.80      0.73      0.77       162\n",
    "  #         4       0.99      0.97      0.98      1608\n",
    "\n",
    "#    accuracy                           0.98     21892\n",
    "#   macro avg       0.92      0.87      0.89     21892\n",
    "#weighted avg       0.98      0.98      0.98     21892\n"
   ]
  },
  {
   "cell_type": "code",
   "execution_count": null,
   "metadata": {},
   "outputs": [],
   "source": []
  }
 ],
 "metadata": {
  "kernelspec": {
   "display_name": "Python 3",
   "language": "python",
   "name": "python3"
  },
  "language_info": {
   "codemirror_mode": {
    "name": "ipython",
    "version": 3
   },
   "file_extension": ".py",
   "mimetype": "text/x-python",
   "name": "python",
   "nbconvert_exporter": "python",
   "pygments_lexer": "ipython3",
   "version": "3.7.3"
  }
 },
 "nbformat": 4,
 "nbformat_minor": 2
}
